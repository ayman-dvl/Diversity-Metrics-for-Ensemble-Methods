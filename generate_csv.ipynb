{
 "cells": [
  {
   "cell_type": "code",
   "execution_count": 1,
   "id": "cf84bcad",
   "metadata": {},
   "outputs": [],
   "source": [
    "from sklearn.datasets import make_moons\n",
    "import pandas as pd"
   ]
  },
  {
   "cell_type": "code",
   "execution_count": 2,
   "id": "5b408e41",
   "metadata": {},
   "outputs": [
    {
     "name": "stdout",
     "output_type": "stream",
     "text": [
      "Moons dataset saved to 'moons_data.csv'\n"
     ]
    }
   ],
   "source": [
    "# Generate the moons dataset\n",
    "X, y = make_moons(n_samples=50, noise=0.1, random_state=42)\n",
    "\n",
    "# Create a DataFrame\n",
    "data = pd.DataFrame(X, columns=['Feature1', 'Feature2'])\n",
    "data['Target'] = y\n",
    "\n",
    "# Save to CSV\n",
    "data.to_csv('moons_data.csv', index=False)\n",
    "\n",
    "print(\"Moons dataset saved to 'moons_data.csv'\")"
   ]
  }
 ],
 "metadata": {
  "kernelspec": {
   "display_name": ".venv",
   "language": "python",
   "name": "python3"
  },
  "language_info": {
   "codemirror_mode": {
    "name": "ipython",
    "version": 3
   },
   "file_extension": ".py",
   "mimetype": "text/x-python",
   "name": "python",
   "nbconvert_exporter": "python",
   "pygments_lexer": "ipython3",
   "version": "3.12.9"
  }
 },
 "nbformat": 4,
 "nbformat_minor": 5
}
