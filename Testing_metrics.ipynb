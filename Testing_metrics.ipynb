{
 "cells": [
  {
   "cell_type": "code",
   "execution_count": 1,
   "metadata": {},
   "outputs": [],
   "source": [
    "import numpy as np\n",
    "import pandas as pd\n",
    "from sklearn.datasets import make_moons\n",
    "from sklearn.model_selection import train_test_split\n",
    "from sklearn.svm import LinearSVC, SVC\n",
    "from sklearn.tree import DecisionTreeClassifier\n",
    "from sklearn.ensemble import RandomForestClassifier\n",
    "from sklearn.preprocessing import StandardScaler\n",
    "from sklearn.metrics import accuracy_score\n",
    "import joblib\n",
    "import os\n",
    "from tensorflow.keras.models import load_model"
   ]
  },
  {
   "cell_type": "code",
   "execution_count": 2,
   "metadata": {},
   "outputs": [],
   "source": [
    "import metrics as me\n",
    "import utils as ut\n",
    "import seaborn as sns\n",
    "import matplotlib.pyplot as plt\n"
   ]
  },
  {
   "cell_type": "markdown",
   "metadata": {},
   "source": [
    "### Importing pre-trained models and generating oracle matrix \n",
    "The oracle matrix contains the outputs of the models for the test set of our dataset"
   ]
  },
  {
   "cell_type": "code",
   "execution_count": 3,
   "metadata": {},
   "outputs": [
    {
     "name": "stdout",
     "output_type": "stream",
     "text": [
      "X_train shape: (240, 2), y_train shape: (240,)\n",
      "Imported sklearn model: decision_tree\n",
      "Imported sklearn model: kernel_svc\n",
      "Imported sklearn model: linear_svc\n",
      "Imported sklearn model: random_forest\n",
      "Oracle outputs: {'decision_tree': array([1, 1, 1, 1, 1, 0, 1, 1, 1, 1, 1, 1, 1, 1, 1, 1, 1, 1, 0, 1, 1, 1,\n",
      "       0, 1, 0, 1, 1, 1, 1, 1, 1, 1, 0, 1, 1, 1, 0, 1, 1, 1, 1, 1, 1, 1,\n",
      "       1, 1, 1, 1, 1, 1, 1, 1, 1, 1, 1, 0, 1, 1, 1, 1]), 'kernel_svc': array([1, 1, 1, 1, 1, 0, 1, 1, 1, 1, 1, 1, 1, 1, 1, 1, 1, 1, 0, 1, 1, 1,\n",
      "       0, 1, 1, 1, 1, 1, 1, 1, 1, 1, 1, 1, 1, 1, 1, 1, 1, 1, 1, 1, 1, 1,\n",
      "       1, 1, 1, 1, 1, 1, 1, 1, 1, 0, 1, 1, 1, 1, 1, 1]), 'linear_svc': array([1, 1, 1, 1, 1, 1, 1, 1, 1, 1, 1, 1, 0, 1, 1, 1, 1, 1, 0, 1, 1, 1,\n",
      "       0, 1, 1, 1, 0, 1, 1, 1, 1, 1, 0, 1, 1, 1, 1, 1, 1, 1, 1, 1, 1, 1,\n",
      "       1, 1, 1, 1, 1, 1, 1, 1, 1, 1, 1, 1, 0, 1, 1, 1]), 'random_forest': array([1, 1, 1, 1, 1, 1, 1, 1, 1, 1, 1, 1, 1, 1, 1, 1, 1, 1, 0, 1, 1, 1,\n",
      "       1, 1, 1, 1, 0, 1, 1, 1, 1, 1, 1, 1, 1, 1, 1, 1, 1, 1, 1, 1, 1, 1,\n",
      "       1, 1, 1, 1, 1, 1, 1, 1, 1, 1, 1, 1, 0, 1, 1, 1])}\n",
      "(4, 60)\n"
     ]
    }
   ],
   "source": [
    "# Générer un dataset non linéairement séparable\n",
    "Xg, yg = make_moons(n_samples=300, noise=0.2, random_state=42)\n",
    "\n",
    "# Diviser les données en ensembles d'entraînement et de test\n",
    "X_train, X_test, y_train, y_test = train_test_split(Xg, yg, test_size=0.2, random_state=42)\n",
    "print(f\"X_train shape: {X_train.shape}, y_train shape: {y_train.shape}\")\n",
    "\n",
    "# Standardiser les données\n",
    "scaler = StandardScaler()\n",
    "X_train_scaled = scaler.fit_transform(X_train)\n",
    "X_test_scaled = scaler.transform(X_test)\n",
    "\n",
    "# Charger les modèles depuis le dossier \"models\"\n",
    "models_folder = \"models\"\n",
    "models = ut.load_models(os.path.join(models_folder))\n",
    "# Entraînement et prédictions binaires (1=correct, 0=faux)\n",
    "oracle_outputs = {}\n",
    "for name, model in models.items():\n",
    "    if name == \"cnn_model\":\n",
    "        y_pred = (model.predict(X_test_scaled) > 0.5).astype(int).flatten()\n",
    "    else:\n",
    "        model.fit(X_train_scaled, y_train)\n",
    "        y_pred = model.predict(X_test_scaled)\n",
    "    oracle_outputs[name] = (y_pred == y_test).astype(int)  # 1 si correct, 0 sinon\n",
    "\n",
    "# Matrice binaire (n_classifiers x n_samples)\n",
    "print(\"Oracle outputs:\", oracle_outputs)\n",
    "oracle_matrix = np.array(list(oracle_outputs.values()))\n",
    "print(oracle_matrix.shape)\n",
    "n_classifiers, n_samples = oracle_matrix.shape"
   ]
  },
  {
   "cell_type": "code",
   "execution_count": 4,
   "metadata": {},
   "outputs": [
    {
     "ename": "NameError",
     "evalue": "name 'ut' is not defined",
     "output_type": "error",
     "traceback": [
      "\u001b[31m---------------------------------------------------------------------------\u001b[39m",
      "\u001b[31mNameError\u001b[39m                                 Traceback (most recent call last)",
      "\u001b[36mCell\u001b[39m\u001b[36m \u001b[39m\u001b[32mIn[4]\u001b[39m\u001b[32m, line 1\u001b[39m\n\u001b[32m----> \u001b[39m\u001b[32m1\u001b[39m correlation_matrix= \u001b[43mut\u001b[49m\u001b[43m.\u001b[49m\u001b[43mcalculate_diversity_metrics_correlation\u001b[49m\u001b[43m(\u001b[49m\u001b[43mmodels\u001b[49m\u001b[43m,\u001b[49m\u001b[43m \u001b[49m\u001b[43mX_test_scaled\u001b[49m\u001b[43m,\u001b[49m\u001b[43m \u001b[49m\u001b[43my_test\u001b[49m\u001b[43m)\u001b[49m\n\u001b[32m      2\u001b[39m plt.figure(figsize=(\u001b[32m10\u001b[39m, \u001b[32m8\u001b[39m))\n\u001b[32m      3\u001b[39m sns.heatmap(correlation_matrix, annot=\u001b[38;5;28;01mTrue\u001b[39;00m, cmap=\u001b[33m'\u001b[39m\u001b[33mcoolwarm\u001b[39m\u001b[33m'\u001b[39m, center=\u001b[32m0\u001b[39m)\n",
      "\u001b[36mFile \u001b[39m\u001b[32mc:\\Users\\__user__\\proj\\Diversity-Metrics-for-Ensemble-Methods\\utils.py:57\u001b[39m, in \u001b[36mcalculate_diversity_metrics_correlation\u001b[39m\u001b[34m(models, X, y)\u001b[39m\n\u001b[32m     55\u001b[39m oracle_outputs = {}\n\u001b[32m     56\u001b[39m \u001b[38;5;28;01mfor\u001b[39;00m name, model \u001b[38;5;129;01min\u001b[39;00m models.items():\n\u001b[32m---> \u001b[39m\u001b[32m57\u001b[39m     oracle_outputs[name] = \u001b[43mut\u001b[49m.get_oracle_output(model, X, y)\n\u001b[32m     60\u001b[39m diversity_results = []\n\u001b[32m     62\u001b[39m model_names = \u001b[38;5;28mlist\u001b[39m(oracle_outputs.keys())\n",
      "\u001b[31mNameError\u001b[39m: name 'ut' is not defined"
     ]
    }
   ],
   "source": [
    "correlation_matrix= ut.calculate_diversity_metrics_correlation(models, X_test_scaled, y_test)\n",
    "plt.figure(figsize=(10, 8))\n",
    "sns.heatmap(correlation_matrix, annot=True, cmap='coolwarm', center=0)\n",
    "plt.title(\"Matrice de corrélation des métriques de diversité\")\n",
    "plt.tight_layout()\n",
    "plt.show()"
   ]
  },
  {
   "cell_type": "code",
   "execution_count": 5,
   "metadata": {},
   "outputs": [
    {
     "ename": "NameError",
     "evalue": "name 'ut' is not defined",
     "output_type": "error",
     "traceback": [
      "\u001b[31m---------------------------------------------------------------------------\u001b[39m",
      "\u001b[31mNameError\u001b[39m                                 Traceback (most recent call last)",
      "\u001b[36mCell\u001b[39m\u001b[36m \u001b[39m\u001b[32mIn[5]\u001b[39m\u001b[32m, line 1\u001b[39m\n\u001b[32m----> \u001b[39m\u001b[32m1\u001b[39m corr_matrix= \u001b[43mut\u001b[49m\u001b[43m.\u001b[49m\u001b[43mcalculate_diversity_metrics_correlation\u001b[49m\u001b[43m(\u001b[49m\u001b[43mmodels\u001b[49m\u001b[43m,\u001b[49m\u001b[43m \u001b[49m\u001b[43mX_test_scaled\u001b[49m\u001b[43m,\u001b[49m\u001b[43m \u001b[49m\u001b[43my_test\u001b[49m\u001b[43m)\u001b[49m\n",
      "\u001b[36mFile \u001b[39m\u001b[32mc:\\Users\\__user__\\proj\\Diversity-Metrics-for-Ensemble-Methods\\utils.py:57\u001b[39m, in \u001b[36mcalculate_diversity_metrics_correlation\u001b[39m\u001b[34m(models, X, y)\u001b[39m\n\u001b[32m     55\u001b[39m oracle_outputs = {}\n\u001b[32m     56\u001b[39m \u001b[38;5;28;01mfor\u001b[39;00m name, model \u001b[38;5;129;01min\u001b[39;00m models.items():\n\u001b[32m---> \u001b[39m\u001b[32m57\u001b[39m     oracle_outputs[name] = \u001b[43mut\u001b[49m.get_oracle_output(model, X, y)\n\u001b[32m     60\u001b[39m diversity_results = []\n\u001b[32m     62\u001b[39m model_names = \u001b[38;5;28mlist\u001b[39m(oracle_outputs.keys())\n",
      "\u001b[31mNameError\u001b[39m: name 'ut' is not defined"
     ]
    }
   ],
   "source": [
    "corr_matrix= ut.calculate_diversity_metrics_correlation(models, X_test_scaled, y_test)"
   ]
  },
  {
   "cell_type": "code",
   "execution_count": 8,
   "metadata": {},
   "outputs": [],
   "source": [
    "def get_least_correlated_metrics(correlation_matrix, k):\n",
    "    \"\"\"\n",
    "    Get the least correlated metric pairs from a correlation matrix.\n",
    "    Parameters:\n",
    "    correlation_matrix (pd.DataFrame): A DataFrame containing the correlation matrix.\n",
    "    k (int): The number of least correlated metric pairs to return.\n",
    "    Returns:\n",
    "    pd.DataFrame: A DataFrame containing the least correlated metric pairs and their correlation values.\n",
    "    \"\"\"\n",
    "    # Flatten the correlation matrix and get the absolute values\n",
    "    corr_values = correlation_matrix.abs().unstack()\n",
    "    \n",
    "    # Remove self-correlations (diagonal elements)\n",
    "    corr_values = corr_values[corr_values.index.get_level_values(0) != corr_values.index.get_level_values(1)]\n",
    "    \n",
    "    # Sort by correlation values in ascending order\n",
    "    least_correlated = corr_values.sort_values().head(k)\n",
    "    least_correlated = least_correlated.reset_index()\n",
    "    least_correlated.columns = ['Metric_1', 'Metric_2', 'Correlation']\n",
    "    # Return the metric pairs and their correlation values\n",
    "    return least_correlated"
   ]
  },
  {
   "cell_type": "code",
   "execution_count": 9,
   "metadata": {},
   "outputs": [
    {
     "data": {
      "text/html": [
       "<div>\n",
       "<style scoped>\n",
       "    .dataframe tbody tr th:only-of-type {\n",
       "        vertical-align: middle;\n",
       "    }\n",
       "\n",
       "    .dataframe tbody tr th {\n",
       "        vertical-align: top;\n",
       "    }\n",
       "\n",
       "    .dataframe thead th {\n",
       "        text-align: right;\n",
       "    }\n",
       "</style>\n",
       "<table border=\"1\" class=\"dataframe\">\n",
       "  <thead>\n",
       "    <tr style=\"text-align: right;\">\n",
       "      <th></th>\n",
       "      <th>entropy</th>\n",
       "      <th>KW_variance</th>\n",
       "      <th>kappa</th>\n",
       "      <th>theta</th>\n",
       "      <th>generalized_diversity</th>\n",
       "      <th>CFD</th>\n",
       "      <th>Q_statistic</th>\n",
       "      <th>correlation</th>\n",
       "      <th>disagreement</th>\n",
       "      <th>double_fault</th>\n",
       "    </tr>\n",
       "  </thead>\n",
       "  <tbody>\n",
       "    <tr>\n",
       "      <th>entropy</th>\n",
       "      <td>1.000000</td>\n",
       "      <td>1.000000</td>\n",
       "      <td>-0.295540</td>\n",
       "      <td>0.633241</td>\n",
       "      <td>0.577350</td>\n",
       "      <td>NaN</td>\n",
       "      <td>0.366807</td>\n",
       "      <td>0.307435</td>\n",
       "      <td>1.000000</td>\n",
       "      <td>0.577350</td>\n",
       "    </tr>\n",
       "    <tr>\n",
       "      <th>KW_variance</th>\n",
       "      <td>1.000000</td>\n",
       "      <td>1.000000</td>\n",
       "      <td>-0.295540</td>\n",
       "      <td>0.633241</td>\n",
       "      <td>0.577350</td>\n",
       "      <td>NaN</td>\n",
       "      <td>0.366807</td>\n",
       "      <td>0.307435</td>\n",
       "      <td>1.000000</td>\n",
       "      <td>0.577350</td>\n",
       "    </tr>\n",
       "    <tr>\n",
       "      <th>kappa</th>\n",
       "      <td>-0.295540</td>\n",
       "      <td>-0.295540</td>\n",
       "      <td>1.000000</td>\n",
       "      <td>-0.926530</td>\n",
       "      <td>-0.950654</td>\n",
       "      <td>NaN</td>\n",
       "      <td>-0.990990</td>\n",
       "      <td>-0.998727</td>\n",
       "      <td>-0.295540</td>\n",
       "      <td>-0.950654</td>\n",
       "    </tr>\n",
       "    <tr>\n",
       "      <th>theta</th>\n",
       "      <td>0.633241</td>\n",
       "      <td>0.633241</td>\n",
       "      <td>-0.926530</td>\n",
       "      <td>1.000000</td>\n",
       "      <td>0.997533</td>\n",
       "      <td>NaN</td>\n",
       "      <td>0.947297</td>\n",
       "      <td>0.930183</td>\n",
       "      <td>0.633241</td>\n",
       "      <td>0.997533</td>\n",
       "    </tr>\n",
       "    <tr>\n",
       "      <th>generalized_diversity</th>\n",
       "      <td>0.577350</td>\n",
       "      <td>0.577350</td>\n",
       "      <td>-0.950654</td>\n",
       "      <td>0.997533</td>\n",
       "      <td>1.000000</td>\n",
       "      <td>NaN</td>\n",
       "      <td>0.966098</td>\n",
       "      <td>0.953429</td>\n",
       "      <td>0.577350</td>\n",
       "      <td>1.000000</td>\n",
       "    </tr>\n",
       "    <tr>\n",
       "      <th>CFD</th>\n",
       "      <td>NaN</td>\n",
       "      <td>NaN</td>\n",
       "      <td>NaN</td>\n",
       "      <td>NaN</td>\n",
       "      <td>NaN</td>\n",
       "      <td>NaN</td>\n",
       "      <td>NaN</td>\n",
       "      <td>NaN</td>\n",
       "      <td>NaN</td>\n",
       "      <td>NaN</td>\n",
       "    </tr>\n",
       "    <tr>\n",
       "      <th>Q_statistic</th>\n",
       "      <td>0.366807</td>\n",
       "      <td>0.366807</td>\n",
       "      <td>-0.990990</td>\n",
       "      <td>0.947297</td>\n",
       "      <td>0.966098</td>\n",
       "      <td>NaN</td>\n",
       "      <td>1.000000</td>\n",
       "      <td>0.985391</td>\n",
       "      <td>0.366807</td>\n",
       "      <td>0.966098</td>\n",
       "    </tr>\n",
       "    <tr>\n",
       "      <th>correlation</th>\n",
       "      <td>0.307435</td>\n",
       "      <td>0.307435</td>\n",
       "      <td>-0.998727</td>\n",
       "      <td>0.930183</td>\n",
       "      <td>0.953429</td>\n",
       "      <td>NaN</td>\n",
       "      <td>0.985391</td>\n",
       "      <td>1.000000</td>\n",
       "      <td>0.307435</td>\n",
       "      <td>0.953429</td>\n",
       "    </tr>\n",
       "    <tr>\n",
       "      <th>disagreement</th>\n",
       "      <td>1.000000</td>\n",
       "      <td>1.000000</td>\n",
       "      <td>-0.295540</td>\n",
       "      <td>0.633241</td>\n",
       "      <td>0.577350</td>\n",
       "      <td>NaN</td>\n",
       "      <td>0.366807</td>\n",
       "      <td>0.307435</td>\n",
       "      <td>1.000000</td>\n",
       "      <td>0.577350</td>\n",
       "    </tr>\n",
       "    <tr>\n",
       "      <th>double_fault</th>\n",
       "      <td>0.577350</td>\n",
       "      <td>0.577350</td>\n",
       "      <td>-0.950654</td>\n",
       "      <td>0.997533</td>\n",
       "      <td>1.000000</td>\n",
       "      <td>NaN</td>\n",
       "      <td>0.966098</td>\n",
       "      <td>0.953429</td>\n",
       "      <td>0.577350</td>\n",
       "      <td>1.000000</td>\n",
       "    </tr>\n",
       "  </tbody>\n",
       "</table>\n",
       "</div>"
      ],
      "text/plain": [
       "                        entropy  KW_variance     kappa     theta  \\\n",
       "entropy                1.000000     1.000000 -0.295540  0.633241   \n",
       "KW_variance            1.000000     1.000000 -0.295540  0.633241   \n",
       "kappa                 -0.295540    -0.295540  1.000000 -0.926530   \n",
       "theta                  0.633241     0.633241 -0.926530  1.000000   \n",
       "generalized_diversity  0.577350     0.577350 -0.950654  0.997533   \n",
       "CFD                         NaN          NaN       NaN       NaN   \n",
       "Q_statistic            0.366807     0.366807 -0.990990  0.947297   \n",
       "correlation            0.307435     0.307435 -0.998727  0.930183   \n",
       "disagreement           1.000000     1.000000 -0.295540  0.633241   \n",
       "double_fault           0.577350     0.577350 -0.950654  0.997533   \n",
       "\n",
       "                       generalized_diversity  CFD  Q_statistic  correlation  \\\n",
       "entropy                             0.577350  NaN     0.366807     0.307435   \n",
       "KW_variance                         0.577350  NaN     0.366807     0.307435   \n",
       "kappa                              -0.950654  NaN    -0.990990    -0.998727   \n",
       "theta                               0.997533  NaN     0.947297     0.930183   \n",
       "generalized_diversity               1.000000  NaN     0.966098     0.953429   \n",
       "CFD                                      NaN  NaN          NaN          NaN   \n",
       "Q_statistic                         0.966098  NaN     1.000000     0.985391   \n",
       "correlation                         0.953429  NaN     0.985391     1.000000   \n",
       "disagreement                        0.577350  NaN     0.366807     0.307435   \n",
       "double_fault                        1.000000  NaN     0.966098     0.953429   \n",
       "\n",
       "                       disagreement  double_fault  \n",
       "entropy                    1.000000      0.577350  \n",
       "KW_variance                1.000000      0.577350  \n",
       "kappa                     -0.295540     -0.950654  \n",
       "theta                      0.633241      0.997533  \n",
       "generalized_diversity      0.577350      1.000000  \n",
       "CFD                             NaN           NaN  \n",
       "Q_statistic                0.366807      0.966098  \n",
       "correlation                0.307435      0.953429  \n",
       "disagreement               1.000000      0.577350  \n",
       "double_fault               0.577350      1.000000  "
      ]
     },
     "execution_count": 9,
     "metadata": {},
     "output_type": "execute_result"
    }
   ],
   "source": [
    "corr_matrix"
   ]
  },
  {
   "cell_type": "code",
   "execution_count": 10,
   "metadata": {},
   "outputs": [
    {
     "data": {
      "text/html": [
       "<div>\n",
       "<style scoped>\n",
       "    .dataframe tbody tr th:only-of-type {\n",
       "        vertical-align: middle;\n",
       "    }\n",
       "\n",
       "    .dataframe tbody tr th {\n",
       "        vertical-align: top;\n",
       "    }\n",
       "\n",
       "    .dataframe thead th {\n",
       "        text-align: right;\n",
       "    }\n",
       "</style>\n",
       "<table border=\"1\" class=\"dataframe\">\n",
       "  <thead>\n",
       "    <tr style=\"text-align: right;\">\n",
       "      <th></th>\n",
       "      <th>Metric_1</th>\n",
       "      <th>Metric_2</th>\n",
       "      <th>Correlation</th>\n",
       "    </tr>\n",
       "  </thead>\n",
       "  <tbody>\n",
       "    <tr>\n",
       "      <th>0</th>\n",
       "      <td>kappa</td>\n",
       "      <td>disagreement</td>\n",
       "      <td>0.29554</td>\n",
       "    </tr>\n",
       "    <tr>\n",
       "      <th>1</th>\n",
       "      <td>disagreement</td>\n",
       "      <td>kappa</td>\n",
       "      <td>0.29554</td>\n",
       "    </tr>\n",
       "    <tr>\n",
       "      <th>2</th>\n",
       "      <td>kappa</td>\n",
       "      <td>entropy</td>\n",
       "      <td>0.29554</td>\n",
       "    </tr>\n",
       "    <tr>\n",
       "      <th>3</th>\n",
       "      <td>entropy</td>\n",
       "      <td>kappa</td>\n",
       "      <td>0.29554</td>\n",
       "    </tr>\n",
       "  </tbody>\n",
       "</table>\n",
       "</div>"
      ],
      "text/plain": [
       "       Metric_1      Metric_2  Correlation\n",
       "0         kappa  disagreement      0.29554\n",
       "1  disagreement         kappa      0.29554\n",
       "2         kappa       entropy      0.29554\n",
       "3       entropy         kappa      0.29554"
      ]
     },
     "execution_count": 10,
     "metadata": {},
     "output_type": "execute_result"
    }
   ],
   "source": [
    "get_least_correlated_metrics(corr_matrix, 4)"
   ]
  },
  {
   "cell_type": "markdown",
   "metadata": {},
   "source": [
    "### Testing the diversity metrics"
   ]
  },
  {
   "cell_type": "code",
   "execution_count": 4,
   "metadata": {},
   "outputs": [
    {
     "name": "stdout",
     "output_type": "stream",
     "text": [
      " Mesures de diversité pour l'ensemble des 4 modèles :\n"
     ]
    },
    {
     "data": {
      "text/html": [
       "<div>\n",
       "<style scoped>\n",
       "    .dataframe tbody tr th:only-of-type {\n",
       "        vertical-align: middle;\n",
       "    }\n",
       "\n",
       "    .dataframe tbody tr th {\n",
       "        vertical-align: top;\n",
       "    }\n",
       "\n",
       "    .dataframe thead th {\n",
       "        text-align: right;\n",
       "    }\n",
       "</style>\n",
       "<table border=\"1\" class=\"dataframe\">\n",
       "  <thead>\n",
       "    <tr style=\"text-align: right;\">\n",
       "      <th></th>\n",
       "      <th>Q_statistic</th>\n",
       "      <th>correlation</th>\n",
       "      <th>disagreement</th>\n",
       "      <th>double_fault</th>\n",
       "      <th>entropy</th>\n",
       "      <th>KW_variance</th>\n",
       "      <th>kappa</th>\n",
       "      <th>theta</th>\n",
       "      <th>generalized_diversity</th>\n",
       "      <th>CFD</th>\n",
       "    </tr>\n",
       "  </thead>\n",
       "  <tbody>\n",
       "    <tr>\n",
       "      <th>0</th>\n",
       "      <td>0.882421</td>\n",
       "      <td>0.392217</td>\n",
       "      <td>0.094444</td>\n",
       "      <td>0.036111</td>\n",
       "      <td>0.147794</td>\n",
       "      <td>0.035417</td>\n",
       "      <td>-0.176471</td>\n",
       "      <td>0.040972</td>\n",
       "      <td>0.036111</td>\n",
       "      <td>0.0</td>\n",
       "    </tr>\n",
       "  </tbody>\n",
       "</table>\n",
       "</div>"
      ],
      "text/plain": [
       "   Q_statistic  correlation  disagreement  double_fault   entropy  \\\n",
       "0     0.882421     0.392217      0.094444      0.036111  0.147794   \n",
       "\n",
       "   KW_variance     kappa     theta  generalized_diversity  CFD  \n",
       "0     0.035417 -0.176471  0.040972               0.036111  0.0  "
      ]
     },
     "metadata": {},
     "output_type": "display_data"
    }
   ],
   "source": [
    "# Calcul des 10 métriques pour l'ensemble des classifieurs\n",
    "# 1. Pairwise metrics\n",
    "metrics_pairwise = me.pairwise_metrics(oracle_matrix)\n",
    "# 2. Non-pairwise metrics\n",
    "metrics_non_pairwise = me.non_pairwise_metrics(oracle_matrix)\n",
    "\n",
    "# Fusion\n",
    "all_metrics = {**metrics_pairwise, **metrics_non_pairwise}\n",
    "\n",
    "# Affichage\n",
    "df_metrics = pd.DataFrame([all_metrics])\n",
    "print(\" Mesures de diversité pour l'ensemble des 4 modèles :\")\n",
    "display(df_metrics)"
   ]
  },
  {
   "cell_type": "markdown",
   "metadata": {},
   "source": [
    "### Finding the best k pairs of classifiers in diversity"
   ]
  },
  {
   "cell_type": "markdown",
   "metadata": {},
   "source": [
    "For Q statistic only"
   ]
  },
  {
   "cell_type": "code",
   "execution_count": 5,
   "metadata": {},
   "outputs": [
    {
     "name": "stdout",
     "output_type": "stream",
     "text": [
      "\u001b[1m2/2\u001b[0m \u001b[32m━━━━━━━━━━━━━━━━━━━━\u001b[0m\u001b[37m\u001b[0m \u001b[1m0s\u001b[0m 23ms/step\n",
      "\u001b[1m2/2\u001b[0m \u001b[32m━━━━━━━━━━━━━━━━━━━━\u001b[0m\u001b[37m\u001b[0m \u001b[1m0s\u001b[0m 16ms/step\n",
      "\u001b[1m2/2\u001b[0m \u001b[32m━━━━━━━━━━━━━━━━━━━━\u001b[0m\u001b[37m\u001b[0m \u001b[1m0s\u001b[0m 24ms/step\n",
      "\u001b[1m2/2\u001b[0m \u001b[32m━━━━━━━━━━━━━━━━━━━━\u001b[0m\u001b[37m\u001b[0m \u001b[1m0s\u001b[0m 34ms/step\n",
      "Diversity Values:\n",
      "cnn_model vs decision_tree: 0.0\n",
      "cnn_model vs kernel_svc: 0.0\n"
     ]
    }
   ],
   "source": [
    "diversity_values = me.calculate_q_statistic_for_models(models, X_test_scaled, y_test, 2)\n",
    "\n",
    "print(\"Diversity Values:\")\n",
    "for key, value in diversity_values.items():\n",
    "    print(f\"{key}: {value}\")"
   ]
  },
  {
   "cell_type": "markdown",
   "metadata": {},
   "source": [
    "For all pairwise metrics: top k pairs for each metric"
   ]
  },
  {
   "cell_type": "code",
   "execution_count": 11,
   "metadata": {},
   "outputs": [
    {
     "name": "stdout",
     "output_type": "stream",
     "text": [
      "Pairwise Metrics:\n",
      "\u001b[1m2/2\u001b[0m \u001b[32m━━━━━━━━━━━━━━━━━━━━\u001b[0m\u001b[37m\u001b[0m \u001b[1m0s\u001b[0m 35ms/step\n",
      "\u001b[1m2/2\u001b[0m \u001b[32m━━━━━━━━━━━━━━━━━━━━\u001b[0m\u001b[37m\u001b[0m \u001b[1m0s\u001b[0m 23ms/step\n",
      "\u001b[1m2/2\u001b[0m \u001b[32m━━━━━━━━━━━━━━━━━━━━\u001b[0m\u001b[37m\u001b[0m \u001b[1m0s\u001b[0m 16ms/step\n",
      "\u001b[1m2/2\u001b[0m \u001b[32m━━━━━━━━━━━━━━━━━━━━\u001b[0m\u001b[37m\u001b[0m \u001b[1m0s\u001b[0m 7ms/step \n",
      "Q_statistic:\n",
      "  cnn_model vs decision_tree: 0.0\n",
      "  cnn_model vs kernel_svc: 0.0\n",
      "  cnn_model vs linear_svc: 0.0\n",
      "  cnn_model vs random_forest: 0.0\n",
      "  kernel_svc vs random_forest: 0.7999999999986667\n",
      "  decision_tree vs linear_svc: 0.8518518518513261\n",
      "  kernel_svc vs linear_svc: 0.8571428571420918\n",
      "  decision_tree vs random_forest: 0.9082568807331117\n",
      "  linear_svc vs random_forest: 0.9272727272718843\n",
      "correlation:\n",
      "  cnn_model vs decision_tree: 0.0\n",
      "  cnn_model vs kernel_svc: 0.0\n",
      "  cnn_model vs linear_svc: 0.0\n",
      "  cnn_model vs random_forest: 0.0\n",
      "  kernel_svc vs random_forest: 0.24525573579398632\n",
      "  kernel_svc vs linear_svc: 0.3563483225498992\n",
      "  decision_tree vs random_forest: 0.3930521575839001\n",
      "  decision_tree vs linear_svc: 0.39803350093255985\n",
      "  linear_svc vs random_forest: 0.4333408306443945\n",
      "disagreement:\n",
      "  cnn_model vs random_forest: 57.0\n",
      "  cnn_model vs kernel_svc: 56.0\n",
      "  cnn_model vs linear_svc: 54.0\n",
      "  cnn_model vs decision_tree: 53.0\n",
      "  decision_tree vs linear_svc: 0.11666666666666667\n",
      "  decision_tree vs random_forest: 0.1\n",
      "  kernel_svc vs linear_svc: 0.1\n",
      "  decision_tree vs kernel_svc: 0.08333333333333333\n",
      "  kernel_svc vs random_forest: 0.08333333333333333\n",
      "double_fault:\n",
      "  kernel_svc vs random_forest: 0.016666666666666666\n",
      "  decision_tree vs random_forest: 0.03333333333333333\n",
      "  kernel_svc vs linear_svc: 0.03333333333333333\n",
      "  linear_svc vs random_forest: 0.03333333333333333\n",
      "  decision_tree vs kernel_svc: 0.05\n",
      "  decision_tree vs linear_svc: 0.05\n",
      "  cnn_model vs random_forest: 3.0\n",
      "  cnn_model vs kernel_svc: 4.0\n",
      "  cnn_model vs linear_svc: 6.0\n"
     ]
    }
   ],
   "source": [
    "print(\"Pairwise Metrics:\")\n",
    "pairwise_metrics = me.calculate_pairwise_metrics_for_models(models, X_test_scaled, y_test)\n",
    "for metric, values in pairwise_metrics.items():\n",
    "    print(f\"{metric}:\")\n",
    "    for key, value in values.items():\n",
    "        print(f\"  {key}: {value[metric]}\")"
   ]
  },
  {
   "cell_type": "code",
   "execution_count": null,
   "metadata": {},
   "outputs": [],
   "source": []
  }
 ],
 "metadata": {
  "kernelspec": {
   "display_name": ".venv",
   "language": "python",
   "name": "python3"
  },
  "language_info": {
   "codemirror_mode": {
    "name": "ipython",
    "version": 3
   },
   "file_extension": ".py",
   "mimetype": "text/x-python",
   "name": "python",
   "nbconvert_exporter": "python",
   "pygments_lexer": "ipython3",
   "version": "3.12.10"
  }
 },
 "nbformat": 4,
 "nbformat_minor": 2
}
