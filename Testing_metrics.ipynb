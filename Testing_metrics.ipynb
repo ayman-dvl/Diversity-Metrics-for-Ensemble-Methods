{
 "cells": [
  {
   "cell_type": "code",
   "execution_count": 3,
   "metadata": {},
   "outputs": [],
   "source": [
    "import numpy as np\n",
    "import pandas as pd\n",
    "from sklearn.datasets import make_moons\n",
    "from sklearn.model_selection import train_test_split\n",
    "from sklearn.svm import LinearSVC, SVC\n",
    "from sklearn.tree import DecisionTreeClassifier\n",
    "from sklearn.ensemble import RandomForestClassifier\n",
    "from sklearn.preprocessing import StandardScaler\n",
    "from sklearn.metrics import accuracy_score\n",
    "import joblib\n",
    "import os\n",
    "from tensorflow.keras.models import load_model"
   ]
  },
  {
   "cell_type": "code",
   "execution_count": 4,
   "metadata": {},
   "outputs": [],
   "source": [
    "import metrics as me\n",
    "import utils as ut"
   ]
  },
  {
   "cell_type": "markdown",
   "metadata": {},
   "source": [
    "### Importing pre-trained models and generating oracle matrix \n",
    "The oracle matrix contains the outputs of the models for the test set of our dataset"
   ]
  },
  {
   "cell_type": "code",
   "execution_count": 5,
   "metadata": {},
   "outputs": [
    {
     "name": "stdout",
     "output_type": "stream",
     "text": [
      "X_train shape: (240, 2), y_train shape: (240,)\n",
      "Imported keras model: cnn_model\n",
      "Imported sklearn model: decision_tree\n",
      "Imported sklearn model: kernel_svc\n",
      "Imported sklearn model: linear_svc\n",
      "Imported sklearn model: random_forest\n",
      "\u001b[1m2/2\u001b[0m \u001b[32m━━━━━━━━━━━━━━━━━━━━\u001b[0m\u001b[37m\u001b[0m \u001b[1m4s\u001b[0m 168ms/step\n",
      "Oracle outputs: {'cnn_model': array([1, 1, 1, 1, 1, 1, 1, 1, 1, 1, 1, 1, 0, 1, 1, 1, 1, 1, 0, 1, 1, 1,\n",
      "       0, 1, 1, 1, 0, 1, 1, 1, 1, 1, 0, 1, 1, 1, 1, 1, 1, 1, 1, 1, 1, 1,\n",
      "       1, 1, 1, 1, 1, 1, 1, 1, 1, 1, 1, 1, 0, 1, 1, 1]), 'decision_tree': array([1, 1, 1, 1, 1, 0, 1, 1, 1, 1, 1, 1, 1, 1, 1, 1, 1, 1, 0, 1, 1, 1,\n",
      "       0, 1, 0, 1, 1, 1, 1, 1, 1, 1, 0, 1, 1, 1, 0, 1, 1, 1, 1, 1, 1, 1,\n",
      "       1, 1, 1, 1, 1, 1, 1, 1, 1, 1, 1, 0, 1, 1, 1, 1]), 'kernel_svc': array([1, 1, 1, 1, 1, 0, 1, 1, 1, 1, 1, 1, 1, 1, 1, 1, 1, 1, 0, 1, 1, 1,\n",
      "       0, 1, 1, 1, 1, 1, 1, 1, 1, 1, 1, 1, 1, 1, 1, 1, 1, 1, 1, 1, 1, 1,\n",
      "       1, 1, 1, 1, 1, 1, 1, 1, 1, 0, 1, 1, 1, 1, 1, 1]), 'linear_svc': array([1, 1, 1, 1, 1, 1, 1, 1, 1, 1, 1, 1, 0, 1, 1, 1, 1, 1, 0, 1, 1, 1,\n",
      "       0, 1, 1, 1, 0, 1, 1, 1, 1, 1, 0, 1, 1, 1, 1, 1, 1, 1, 1, 1, 1, 1,\n",
      "       1, 1, 1, 1, 1, 1, 1, 1, 1, 1, 1, 1, 0, 1, 1, 1]), 'random_forest': array([1, 1, 1, 1, 1, 1, 1, 1, 1, 1, 1, 1, 1, 1, 1, 1, 1, 1, 0, 1, 1, 1,\n",
      "       1, 1, 1, 1, 0, 1, 1, 1, 1, 1, 1, 1, 1, 1, 1, 1, 1, 1, 1, 1, 1, 1,\n",
      "       1, 1, 1, 1, 1, 1, 1, 1, 1, 1, 1, 0, 0, 1, 1, 1])}\n",
      "(5, 60)\n"
     ]
    }
   ],
   "source": [
    "# Générer un dataset non linéairement séparable\n",
    "Xg, yg = make_moons(n_samples=300, noise=0.2, random_state=42)\n",
    "\n",
    "# Diviser les données en ensembles d'entraînement et de test\n",
    "X_train, X_test, y_train, y_test = train_test_split(Xg, yg, test_size=0.2, random_state=42)\n",
    "print(f\"X_train shape: {X_train.shape}, y_train shape: {y_train.shape}\")\n",
    "\n",
    "# Standardiser les données\n",
    "scaler = StandardScaler()\n",
    "X_train_scaled = scaler.fit_transform(X_train)\n",
    "X_test_scaled = scaler.transform(X_test)\n",
    "\n",
    "# Charger les modèles depuis le dossier \"models\"\n",
    "models_folder = \"models\"\n",
    "models = ut.load_models(models_folder)\n",
    "\n",
    "# Entraînement et prédictions binaires (1=correct, 0=faux)\n",
    "oracle_outputs = {}\n",
    "for name, model in models.items():\n",
    "    if name == \"cnn_model\":\n",
    "        y_pred = (model.predict(X_test_scaled) > 0.5).astype(int).flatten()\n",
    "    else:\n",
    "        model.fit(X_train_scaled, y_train)\n",
    "        y_pred = model.predict(X_test_scaled)\n",
    "    oracle_outputs[name] = (y_pred == y_test).astype(int)  # 1 si correct, 0 sinon\n",
    "\n",
    "# Matrice binaire (n_classifiers x n_samples)\n",
    "print(\"Oracle outputs:\", oracle_outputs)\n",
    "oracle_matrix = np.array(list(oracle_outputs.values()))\n",
    "print(oracle_matrix.shape)\n",
    "n_classifiers, n_samples = oracle_matrix.shape"
   ]
  },
  {
   "cell_type": "markdown",
   "metadata": {},
   "source": [
    "### Testing the diversity metrics"
   ]
  },
  {
   "cell_type": "code",
   "execution_count": null,
   "metadata": {},
   "outputs": [
    {
     "name": "stdout",
     "output_type": "stream",
     "text": [
      " Mesures de diversité pour l'ensemble des 4 modèles :\n"
     ]
    },
    {
     "data": {
      "text/html": [
       "<div>\n",
       "<style scoped>\n",
       "    .dataframe tbody tr th:only-of-type {\n",
       "        vertical-align: middle;\n",
       "    }\n",
       "\n",
       "    .dataframe tbody tr th {\n",
       "        vertical-align: top;\n",
       "    }\n",
       "\n",
       "    .dataframe thead th {\n",
       "        text-align: right;\n",
       "    }\n",
       "</style>\n",
       "<table border=\"1\" class=\"dataframe\">\n",
       "  <thead>\n",
       "    <tr style=\"text-align: right;\">\n",
       "      <th></th>\n",
       "      <th>Q_statistic</th>\n",
       "      <th>correlation</th>\n",
       "      <th>disagreement</th>\n",
       "      <th>double_fault</th>\n",
       "      <th>entropy</th>\n",
       "      <th>KW_variance</th>\n",
       "      <th>kappa</th>\n",
       "      <th>theta</th>\n",
       "      <th>generalized_diversity</th>\n",
       "      <th>CFD</th>\n",
       "    </tr>\n",
       "  </thead>\n",
       "  <tbody>\n",
       "    <tr>\n",
       "      <th>0</th>\n",
       "      <td>0.893079</td>\n",
       "      <td>0.454102</td>\n",
       "      <td>0.086667</td>\n",
       "      <td>0.043333</td>\n",
       "      <td>0.145224</td>\n",
       "      <td>0.034667</td>\n",
       "      <td>-0.25</td>\n",
       "      <td>0.044489</td>\n",
       "      <td>0.043333</td>\n",
       "      <td>0.0</td>\n",
       "    </tr>\n",
       "  </tbody>\n",
       "</table>\n",
       "</div>"
      ],
      "text/plain": [
       "   Q_statistic  correlation  disagreement  double_fault   entropy  \\\n",
       "0     0.893079     0.454102      0.086667      0.043333  0.145224   \n",
       "\n",
       "   KW_variance  kappa     theta  generalized_diversity  CFD  \n",
       "0     0.034667  -0.25  0.044489               0.043333  0.0  "
      ]
     },
     "metadata": {},
     "output_type": "display_data"
    }
   ],
   "source": [
    "# Calcul des 10 métriques pour l'ensemble des classifieurs\n",
    "# 1. Pairwise metrics\n",
    "metrics_pairwise = me.pairwise_metrics(oracle_matrix)\n",
    "# 2. Non-pairwise metrics\n",
    "metrics_non_pairwise = me.non_pairwise_metrics(oracle_matrix)\n",
    "\n",
    "# Fusion\n",
    "all_metrics = {**metrics_pairwise, **metrics_non_pairwise}\n",
    "\n",
    "# Affichage\n",
    "df_metrics = pd.DataFrame([all_metrics])\n",
    "print(\" Mesures de diversité pour l'ensemble des 4 modèles :\")\n",
    "display(df_metrics)"
   ]
  },
  {
   "cell_type": "markdown",
   "metadata": {},
   "source": [
    "### Finding the best k pairs of classifiers in diversity"
   ]
  },
  {
   "cell_type": "markdown",
   "metadata": {},
   "source": [
    "For Q statistic only"
   ]
  },
  {
   "cell_type": "code",
   "execution_count": 5,
   "metadata": {},
   "outputs": [
    {
     "name": "stdout",
     "output_type": "stream",
     "text": [
      "\u001b[1m2/2\u001b[0m \u001b[32m━━━━━━━━━━━━━━━━━━━━\u001b[0m\u001b[37m\u001b[0m \u001b[1m0s\u001b[0m 23ms/step\n",
      "\u001b[1m2/2\u001b[0m \u001b[32m━━━━━━━━━━━━━━━━━━━━\u001b[0m\u001b[37m\u001b[0m \u001b[1m0s\u001b[0m 16ms/step\n",
      "\u001b[1m2/2\u001b[0m \u001b[32m━━━━━━━━━━━━━━━━━━━━\u001b[0m\u001b[37m\u001b[0m \u001b[1m0s\u001b[0m 24ms/step\n",
      "\u001b[1m2/2\u001b[0m \u001b[32m━━━━━━━━━━━━━━━━━━━━\u001b[0m\u001b[37m\u001b[0m \u001b[1m0s\u001b[0m 34ms/step\n",
      "Diversity Values:\n",
      "cnn_model vs decision_tree: 0.0\n",
      "cnn_model vs kernel_svc: 0.0\n"
     ]
    }
   ],
   "source": [
    "diversity_values = me.calculate_q_statistic_for_models(models, X_test_scaled, y_test, 2)\n",
    "\n",
    "print(\"Diversity Values:\")\n",
    "for key, value in diversity_values.items():\n",
    "    print(f\"{key}: {value}\")"
   ]
  },
  {
   "cell_type": "markdown",
   "metadata": {},
   "source": [
    "For all pairwise metrics: top k pairs for each metric"
   ]
  },
  {
   "cell_type": "code",
   "execution_count": 11,
   "metadata": {},
   "outputs": [
    {
     "name": "stdout",
     "output_type": "stream",
     "text": [
      "Pairwise Metrics:\n",
      "\u001b[1m2/2\u001b[0m \u001b[32m━━━━━━━━━━━━━━━━━━━━\u001b[0m\u001b[37m\u001b[0m \u001b[1m0s\u001b[0m 35ms/step\n",
      "\u001b[1m2/2\u001b[0m \u001b[32m━━━━━━━━━━━━━━━━━━━━\u001b[0m\u001b[37m\u001b[0m \u001b[1m0s\u001b[0m 23ms/step\n",
      "\u001b[1m2/2\u001b[0m \u001b[32m━━━━━━━━━━━━━━━━━━━━\u001b[0m\u001b[37m\u001b[0m \u001b[1m0s\u001b[0m 16ms/step\n",
      "\u001b[1m2/2\u001b[0m \u001b[32m━━━━━━━━━━━━━━━━━━━━\u001b[0m\u001b[37m\u001b[0m \u001b[1m0s\u001b[0m 7ms/step \n",
      "Q_statistic:\n",
      "  cnn_model vs decision_tree: 0.0\n",
      "  cnn_model vs kernel_svc: 0.0\n",
      "  cnn_model vs linear_svc: 0.0\n",
      "  cnn_model vs random_forest: 0.0\n",
      "  kernel_svc vs random_forest: 0.7999999999986667\n",
      "  decision_tree vs linear_svc: 0.8518518518513261\n",
      "  kernel_svc vs linear_svc: 0.8571428571420918\n",
      "  decision_tree vs random_forest: 0.9082568807331117\n",
      "  linear_svc vs random_forest: 0.9272727272718843\n",
      "correlation:\n",
      "  cnn_model vs decision_tree: 0.0\n",
      "  cnn_model vs kernel_svc: 0.0\n",
      "  cnn_model vs linear_svc: 0.0\n",
      "  cnn_model vs random_forest: 0.0\n",
      "  kernel_svc vs random_forest: 0.24525573579398632\n",
      "  kernel_svc vs linear_svc: 0.3563483225498992\n",
      "  decision_tree vs random_forest: 0.3930521575839001\n",
      "  decision_tree vs linear_svc: 0.39803350093255985\n",
      "  linear_svc vs random_forest: 0.4333408306443945\n",
      "disagreement:\n",
      "  cnn_model vs random_forest: 57.0\n",
      "  cnn_model vs kernel_svc: 56.0\n",
      "  cnn_model vs linear_svc: 54.0\n",
      "  cnn_model vs decision_tree: 53.0\n",
      "  decision_tree vs linear_svc: 0.11666666666666667\n",
      "  decision_tree vs random_forest: 0.1\n",
      "  kernel_svc vs linear_svc: 0.1\n",
      "  decision_tree vs kernel_svc: 0.08333333333333333\n",
      "  kernel_svc vs random_forest: 0.08333333333333333\n",
      "double_fault:\n",
      "  kernel_svc vs random_forest: 0.016666666666666666\n",
      "  decision_tree vs random_forest: 0.03333333333333333\n",
      "  kernel_svc vs linear_svc: 0.03333333333333333\n",
      "  linear_svc vs random_forest: 0.03333333333333333\n",
      "  decision_tree vs kernel_svc: 0.05\n",
      "  decision_tree vs linear_svc: 0.05\n",
      "  cnn_model vs random_forest: 3.0\n",
      "  cnn_model vs kernel_svc: 4.0\n",
      "  cnn_model vs linear_svc: 6.0\n"
     ]
    }
   ],
   "source": [
    "print(\"Pairwise Metrics:\")\n",
    "pairwise_metrics = me.calculate_pairwise_metrics_for_models(models, X_test_scaled, y_test)\n",
    "for metric, values in pairwise_metrics.items():\n",
    "    print(f\"{metric}:\")\n",
    "    for key, value in values.items():\n",
    "        print(f\"  {key}: {value[metric]}\")"
   ]
  },
  {
   "cell_type": "code",
   "execution_count": null,
   "metadata": {},
   "outputs": [],
   "source": []
  }
 ],
 "metadata": {
  "kernelspec": {
   "display_name": ".venv",
   "language": "python",
   "name": "python3"
  },
  "language_info": {
   "codemirror_mode": {
    "name": "ipython",
    "version": 3
   },
   "file_extension": ".py",
   "mimetype": "text/x-python",
   "name": "python",
   "nbconvert_exporter": "python",
   "pygments_lexer": "ipython3",
   "version": "3.12.9"
  }
 },
 "nbformat": 4,
 "nbformat_minor": 2
}
