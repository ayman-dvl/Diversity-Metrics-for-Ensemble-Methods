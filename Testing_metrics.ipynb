{
 "cells": [
  {
   "cell_type": "code",
   "execution_count": 12,
   "metadata": {},
   "outputs": [],
   "source": [
    "import numpy as np\n",
    "import pandas as pd\n",
    "from sklearn.datasets import make_moons\n",
    "from sklearn.model_selection import train_test_split\n",
    "from sklearn.svm import LinearSVC, SVC\n",
    "from sklearn.tree import DecisionTreeClassifier\n",
    "from sklearn.ensemble import RandomForestClassifier\n",
    "from sklearn.preprocessing import StandardScaler\n",
    "from sklearn.metrics import accuracy_score\n",
    "import joblib\n",
    "import os\n",
    "from tensorflow.keras.models import load_model"
   ]
  },
  {
   "cell_type": "code",
   "execution_count": 13,
   "metadata": {},
   "outputs": [],
   "source": [
    "import metrics as me\n",
    "import utils as ut"
   ]
  },
  {
   "cell_type": "markdown",
   "metadata": {},
   "source": [
    "### Importing pre-trained models and generating oracle matrix \n",
    "The oracle matrix contains the outputs of the models for the test set of our dataset"
   ]
  },
  {
   "cell_type": "code",
   "execution_count": 19,
   "metadata": {},
   "outputs": [
    {
     "name": "stdout",
     "output_type": "stream",
     "text": [
      "X_train shape: (240, 2), y_train shape: (240,)\n"
     ]
    },
    {
     "ename": "NameError",
     "evalue": "name 'os' is not defined",
     "output_type": "error",
     "traceback": [
      "\u001b[31m---------------------------------------------------------------------------\u001b[39m",
      "\u001b[31mNameError\u001b[39m                                 Traceback (most recent call last)",
      "\u001b[36mCell\u001b[39m\u001b[36m \u001b[39m\u001b[32mIn[19]\u001b[39m\u001b[32m, line 15\u001b[39m\n\u001b[32m     13\u001b[39m \u001b[38;5;66;03m# Charger les modèles depuis le dossier \"models\"\u001b[39;00m\n\u001b[32m     14\u001b[39m models_folder = \u001b[33m\"\u001b[39m\u001b[33mmodels\u001b[39m\u001b[33m\"\u001b[39m\n\u001b[32m---> \u001b[39m\u001b[32m15\u001b[39m models = \u001b[43mut\u001b[49m\u001b[43m.\u001b[49m\u001b[43mload_models\u001b[49m\u001b[43m(\u001b[49m\u001b[43mos\u001b[49m\u001b[43m.\u001b[49m\u001b[43mpath\u001b[49m\u001b[43m.\u001b[49m\u001b[43mjoin\u001b[49m\u001b[43m(\u001b[49m\u001b[43mmodels_folder\u001b[49m\u001b[43m)\u001b[49m\u001b[43m)\u001b[49m\n\u001b[32m     16\u001b[39m \u001b[38;5;66;03m# Entraînement et prédictions binaires (1=correct, 0=faux)\u001b[39;00m\n\u001b[32m     17\u001b[39m oracle_outputs = {}\n",
      "\u001b[36mFile \u001b[39m\u001b[32mc:\\VS_Code\\Diversity-Metrics-for-Ensemble-Methods\\utils.py:34\u001b[39m, in \u001b[36mload_models\u001b[39m\u001b[34m(models_folder)\u001b[39m\n\u001b[32m     24\u001b[39m \u001b[38;5;250m\u001b[39m\u001b[33;03m\"\"\"\u001b[39;00m\n\u001b[32m     25\u001b[39m \u001b[33;03mLoad models from the specified folder and return a dictionary of models.\u001b[39;00m\n\u001b[32m     26\u001b[39m \n\u001b[32m   (...)\u001b[39m\u001b[32m     31\u001b[39m \u001b[33;03m    dict: A dictionary where keys are model names and values are the loaded models.\u001b[39;00m\n\u001b[32m     32\u001b[39m \u001b[33;03m\"\"\"\u001b[39;00m\n\u001b[32m     33\u001b[39m models = {}\n\u001b[32m---> \u001b[39m\u001b[32m34\u001b[39m \u001b[38;5;28;01mfor\u001b[39;00m file \u001b[38;5;129;01min\u001b[39;00m \u001b[43mos\u001b[49m.listdir(models_folder):\n\u001b[32m     35\u001b[39m     model_name = file.split(\u001b[33m\"\u001b[39m\u001b[33m.\u001b[39m\u001b[33m\"\u001b[39m)[\u001b[32m0\u001b[39m]\n\u001b[32m     36\u001b[39m     file_extension = file.split(\u001b[33m\"\u001b[39m\u001b[33m.\u001b[39m\u001b[33m\"\u001b[39m)[-\u001b[32m1\u001b[39m]\n",
      "\u001b[31mNameError\u001b[39m: name 'os' is not defined"
     ]
    }
   ],
   "source": [
    "# Générer un dataset non linéairement séparable\n",
    "Xg, yg = make_moons(n_samples=300, noise=0.2, random_state=42)\n",
    "\n",
    "# Diviser les données en ensembles d'entraînement et de test\n",
    "X_train, X_test, y_train, y_test = train_test_split(Xg, yg, test_size=0.2, random_state=42)\n",
    "print(f\"X_train shape: {X_train.shape}, y_train shape: {y_train.shape}\")\n",
    "\n",
    "# Standardiser les données\n",
    "scaler = StandardScaler()\n",
    "X_train_scaled = scaler.fit_transform(X_train)\n",
    "X_test_scaled = scaler.transform(X_test)\n",
    "\n",
    "# Charger les modèles depuis le dossier \"models\"\n",
    "models_folder = \"models\"\n",
    "models = ut.load_models(os.path.join(models_folder))\n",
    "# Entraînement et prédictions binaires (1=correct, 0=faux)\n",
    "oracle_outputs = {}\n",
    "for name, model in models.items():\n",
    "    if name == \"cnn_model\":\n",
    "        y_pred = (model.predict(X_test_scaled) > 0.5).astype(int).flatten()\n",
    "    else:\n",
    "        model.fit(X_train_scaled, y_train)\n",
    "        y_pred = model.predict(X_test_scaled)\n",
    "    oracle_outputs[name] = (y_pred == y_test).astype(int)  # 1 si correct, 0 sinon\n",
    "\n",
    "# Matrice binaire (n_classifiers x n_samples)\n",
    "print(\"Oracle outputs:\", oracle_outputs)\n",
    "oracle_matrix = np.array(list(oracle_outputs.values()))\n",
    "print(oracle_matrix.shape)\n",
    "n_classifiers, n_samples = oracle_matrix.shape"
   ]
  },
  {
   "cell_type": "markdown",
   "metadata": {},
   "source": [
    "### Testing the diversity metrics"
   ]
  },
  {
   "cell_type": "code",
   "execution_count": 20,
   "metadata": {},
   "outputs": [
    {
     "ename": "NameError",
     "evalue": "name 'oracle_matrix' is not defined",
     "output_type": "error",
     "traceback": [
      "\u001b[31m---------------------------------------------------------------------------\u001b[39m",
      "\u001b[31mNameError\u001b[39m                                 Traceback (most recent call last)",
      "\u001b[36mCell\u001b[39m\u001b[36m \u001b[39m\u001b[32mIn[20]\u001b[39m\u001b[32m, line 3\u001b[39m\n\u001b[32m      1\u001b[39m \u001b[38;5;66;03m# Calcul des 10 métriques pour l'ensemble des classifieurs\u001b[39;00m\n\u001b[32m      2\u001b[39m \u001b[38;5;66;03m# 1. Pairwise metrics\u001b[39;00m\n\u001b[32m----> \u001b[39m\u001b[32m3\u001b[39m metrics_pairwise = me.pairwise_metrics(\u001b[43moracle_matrix\u001b[49m)\n\u001b[32m      4\u001b[39m \u001b[38;5;66;03m# 2. Non-pairwise metrics\u001b[39;00m\n\u001b[32m      5\u001b[39m metrics_non_pairwise = me.non_pairwise_metrics(oracle_matrix)\n",
      "\u001b[31mNameError\u001b[39m: name 'oracle_matrix' is not defined"
     ]
    }
   ],
   "source": [
    "# Calcul des 10 métriques pour l'ensemble des classifieurs\n",
    "# 1. Pairwise metrics\n",
    "metrics_pairwise = me.pairwise_metrics(oracle_matrix)\n",
    "# 2. Non-pairwise metrics\n",
    "metrics_non_pairwise = me.non_pairwise_metrics(oracle_matrix)\n",
    "\n",
    "# Fusion\n",
    "all_metrics = {**metrics_pairwise, **metrics_non_pairwise}\n",
    "\n",
    "# Affichage\n",
    "df_metrics = pd.DataFrame([all_metrics])\n",
    "print(\" Mesures de diversité pour l'ensemble des 4 modèles :\")\n",
    "display(df_metrics)"
   ]
  },
  {
   "cell_type": "markdown",
   "metadata": {},
   "source": [
    "### Finding the best k pairs of classifiers in diversity"
   ]
  },
  {
   "cell_type": "markdown",
   "metadata": {},
   "source": [
    "For Q statistic only"
   ]
  },
  {
   "cell_type": "code",
   "execution_count": 5,
   "metadata": {},
   "outputs": [
    {
     "name": "stdout",
     "output_type": "stream",
     "text": [
      "\u001b[1m2/2\u001b[0m \u001b[32m━━━━━━━━━━━━━━━━━━━━\u001b[0m\u001b[37m\u001b[0m \u001b[1m0s\u001b[0m 23ms/step\n",
      "\u001b[1m2/2\u001b[0m \u001b[32m━━━━━━━━━━━━━━━━━━━━\u001b[0m\u001b[37m\u001b[0m \u001b[1m0s\u001b[0m 16ms/step\n",
      "\u001b[1m2/2\u001b[0m \u001b[32m━━━━━━━━━━━━━━━━━━━━\u001b[0m\u001b[37m\u001b[0m \u001b[1m0s\u001b[0m 24ms/step\n",
      "\u001b[1m2/2\u001b[0m \u001b[32m━━━━━━━━━━━━━━━━━━━━\u001b[0m\u001b[37m\u001b[0m \u001b[1m0s\u001b[0m 34ms/step\n",
      "Diversity Values:\n",
      "cnn_model vs decision_tree: 0.0\n",
      "cnn_model vs kernel_svc: 0.0\n"
     ]
    }
   ],
   "source": [
    "diversity_values = me.calculate_q_statistic_for_models(models, X_test_scaled, y_test, 2)\n",
    "\n",
    "print(\"Diversity Values:\")\n",
    "for key, value in diversity_values.items():\n",
    "    print(f\"{key}: {value}\")"
   ]
  },
  {
   "cell_type": "markdown",
   "metadata": {},
   "source": [
    "For all pairwise metrics: top k pairs for each metric"
   ]
  },
  {
   "cell_type": "code",
   "execution_count": 11,
   "metadata": {},
   "outputs": [
    {
     "name": "stdout",
     "output_type": "stream",
     "text": [
      "Pairwise Metrics:\n",
      "\u001b[1m2/2\u001b[0m \u001b[32m━━━━━━━━━━━━━━━━━━━━\u001b[0m\u001b[37m\u001b[0m \u001b[1m0s\u001b[0m 35ms/step\n",
      "\u001b[1m2/2\u001b[0m \u001b[32m━━━━━━━━━━━━━━━━━━━━\u001b[0m\u001b[37m\u001b[0m \u001b[1m0s\u001b[0m 23ms/step\n",
      "\u001b[1m2/2\u001b[0m \u001b[32m━━━━━━━━━━━━━━━━━━━━\u001b[0m\u001b[37m\u001b[0m \u001b[1m0s\u001b[0m 16ms/step\n",
      "\u001b[1m2/2\u001b[0m \u001b[32m━━━━━━━━━━━━━━━━━━━━\u001b[0m\u001b[37m\u001b[0m \u001b[1m0s\u001b[0m 7ms/step \n",
      "Q_statistic:\n",
      "  cnn_model vs decision_tree: 0.0\n",
      "  cnn_model vs kernel_svc: 0.0\n",
      "  cnn_model vs linear_svc: 0.0\n",
      "  cnn_model vs random_forest: 0.0\n",
      "  kernel_svc vs random_forest: 0.7999999999986667\n",
      "  decision_tree vs linear_svc: 0.8518518518513261\n",
      "  kernel_svc vs linear_svc: 0.8571428571420918\n",
      "  decision_tree vs random_forest: 0.9082568807331117\n",
      "  linear_svc vs random_forest: 0.9272727272718843\n",
      "correlation:\n",
      "  cnn_model vs decision_tree: 0.0\n",
      "  cnn_model vs kernel_svc: 0.0\n",
      "  cnn_model vs linear_svc: 0.0\n",
      "  cnn_model vs random_forest: 0.0\n",
      "  kernel_svc vs random_forest: 0.24525573579398632\n",
      "  kernel_svc vs linear_svc: 0.3563483225498992\n",
      "  decision_tree vs random_forest: 0.3930521575839001\n",
      "  decision_tree vs linear_svc: 0.39803350093255985\n",
      "  linear_svc vs random_forest: 0.4333408306443945\n",
      "disagreement:\n",
      "  cnn_model vs random_forest: 57.0\n",
      "  cnn_model vs kernel_svc: 56.0\n",
      "  cnn_model vs linear_svc: 54.0\n",
      "  cnn_model vs decision_tree: 53.0\n",
      "  decision_tree vs linear_svc: 0.11666666666666667\n",
      "  decision_tree vs random_forest: 0.1\n",
      "  kernel_svc vs linear_svc: 0.1\n",
      "  decision_tree vs kernel_svc: 0.08333333333333333\n",
      "  kernel_svc vs random_forest: 0.08333333333333333\n",
      "double_fault:\n",
      "  kernel_svc vs random_forest: 0.016666666666666666\n",
      "  decision_tree vs random_forest: 0.03333333333333333\n",
      "  kernel_svc vs linear_svc: 0.03333333333333333\n",
      "  linear_svc vs random_forest: 0.03333333333333333\n",
      "  decision_tree vs kernel_svc: 0.05\n",
      "  decision_tree vs linear_svc: 0.05\n",
      "  cnn_model vs random_forest: 3.0\n",
      "  cnn_model vs kernel_svc: 4.0\n",
      "  cnn_model vs linear_svc: 6.0\n"
     ]
    }
   ],
   "source": [
    "print(\"Pairwise Metrics:\")\n",
    "pairwise_metrics = me.calculate_pairwise_metrics_for_models(models, X_test_scaled, y_test)\n",
    "for metric, values in pairwise_metrics.items():\n",
    "    print(f\"{metric}:\")\n",
    "    for key, value in values.items():\n",
    "        print(f\"  {key}: {value[metric]}\")"
   ]
  },
  {
   "cell_type": "code",
   "execution_count": null,
   "metadata": {},
   "outputs": [],
   "source": []
  }
 ],
 "metadata": {
  "kernelspec": {
   "display_name": ".venv",
   "language": "python",
   "name": "python3"
  },
  "language_info": {
   "codemirror_mode": {
    "name": "ipython",
    "version": 3
   },
   "file_extension": ".py",
   "mimetype": "text/x-python",
   "name": "python",
   "nbconvert_exporter": "python",
   "pygments_lexer": "ipython3",
   "version": "3.12.9"
  }
 },
 "nbformat": 4,
 "nbformat_minor": 2
}
